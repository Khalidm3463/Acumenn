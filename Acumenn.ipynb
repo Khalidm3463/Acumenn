{
 "cells": [
  {
   "cell_type": "code",
   "execution_count": 29,
   "id": "061f187c",
   "metadata": {},
   "outputs": [],
   "source": [
    "import yfinance as yf\n",
    "import pandas as pd\n",
    "import numpy as np\n",
    "from sklearn.model_selection import train_test_split\n",
    "from sklearn.tree import DecisionTreeClassifier\n",
    "import talib"
   ]
  },
  {
   "cell_type": "code",
   "execution_count": 30,
   "id": "d346a021",
   "metadata": {},
   "outputs": [],
   "source": [
    "# Define a function to fetch stock data from yfinance\n",
    "def fetch_stock_data(ticker, start_date, end_date):\n",
    "    stock_data = yf.download(ticker, start=start_date, end=end_date)\n",
    "    return stock_data"
   ]
  },
  {
   "cell_type": "code",
   "execution_count": 31,
   "id": "42048e1a",
   "metadata": {},
   "outputs": [],
   "source": [
    "# Define a function to preprocess the data and extract the four stock indicators\n",
    "def preprocess_data(stock_data):\n",
    "    stock_data['RSI'] = talib.RSI(stock_data['Close'])\n",
    "    stock_data['EMA50'] = stock_data['Close'].ewm(span=50, adjust=False).mean()\n",
    "    stock_data['EMA200'] = stock_data['Close'].ewm(span=200, adjust=False).mean()\n",
    "    stock_data['EMA13'] = stock_data['Close'].ewm(span=13, adjust=False).mean()\n",
    "    stock_data['EMA26'] = stock_data['Close'].ewm(span=26, adjust=False).mean()\n",
    "    stock_data['MACD'] = talib.MACD(stock_data['Close'])[0]\n",
    "    stock_data = stock_data.dropna()\n",
    "    return stock_data[['RSI', 'EMA50', 'EMA200', 'EMA13', 'EMA26', 'MACD']]"
   ]
  },
  {
   "cell_type": "code",
   "execution_count": 32,
   "id": "7b33b59e",
   "metadata": {},
   "outputs": [],
   "source": [
    "# Define a function to build and train the model\n",
    "def build_and_train_model(X_train, y_train):\n",
    "    model = DecisionTreeClassifier()\n",
    "    model.fit(X_train, y_train)\n",
    "    return model"
   ]
  },
  {
   "cell_type": "code",
   "execution_count": 33,
   "id": "6673a6ef",
   "metadata": {},
   "outputs": [
    {
     "name": "stdout",
     "output_type": "stream",
     "text": [
      "[*********************100%***********************]  1 of 1 completed\n"
     ]
    }
   ],
   "source": [
    "# Fetch AAPL stock data from year 2000\n",
    "start_date = '2000-01-01'\n",
    "end_date = '2023-03-27'\n",
    "aapl_data = fetch_stock_data('AAPL', start_date, end_date)"
   ]
  },
  {
   "cell_type": "code",
   "execution_count": 34,
   "id": "40705319",
   "metadata": {},
   "outputs": [],
   "source": [
    "# Preprocess AAPL stock data and extract the four stock indicators\n",
    "preprocessed_aapl_data = preprocess_data(aapl_data)"
   ]
  },
  {
   "cell_type": "code",
   "execution_count": 35,
   "id": "4ad05936",
   "metadata": {},
   "outputs": [],
   "source": [
    "# Train the model on multiple other stocks\n",
    "stocks = ['MSFT', 'AMZN','GOOG', 'TSLA']\n",
    "start_date = '2010-01-01'\n",
    "end_date = '2023-03-27'"
   ]
  },
  {
   "cell_type": "code",
   "execution_count": 36,
   "id": "1f30a26f",
   "metadata": {},
   "outputs": [
    {
     "name": "stderr",
     "output_type": "stream",
     "text": [
      "/tmp/ipykernel_7427/3737762291.py:3: FutureWarning: The default dtype for empty Series will be 'object' instead of 'float64' in a future version. Specify a dtype explicitly to silence this warning.\n",
      "  y = pd.Series()\n"
     ]
    }
   ],
   "source": [
    "# Create empty dataframes to store X and y data\n",
    "X = pd.DataFrame()\n",
    "y = pd.Series()"
   ]
  },
  {
   "cell_type": "code",
   "execution_count": 37,
   "id": "cca6af75",
   "metadata": {},
   "outputs": [
    {
     "name": "stdout",
     "output_type": "stream",
     "text": [
      "[*********************100%***********************]  1 of 1 completed\n",
      "[*********************100%***********************]  1 of 1 completed\n",
      "[*********************100%***********************]  1 of 1 completed\n",
      "[*********************100%***********************]  1 of 1 completed\n"
     ]
    }
   ],
   "source": [
    "# Loop through the list of stocks and preprocess the data\n",
    "for stock in stocks:\n",
    "    stock_data = yf.download(stock, start=start_date, end=end_date)\n",
    "    preprocessed_data = preprocess_data(stock_data)\n",
    "    X = pd.concat([X, preprocessed_data])\n",
    "    y = pd.concat([y, pd.Series(np.where(preprocessed_data['RSI'].shift(-1) >= 60, -1, 1), index=preprocessed_data.index[:].dropna())])"
   ]
  },
  {
   "cell_type": "code",
   "execution_count": 38,
   "id": "b9a641ad",
   "metadata": {},
   "outputs": [],
   "source": [
    "# Split the data into training and testing sets\n",
    "X_train, X_test, y_train, y_test = train_test_split(X, y, test_size=0.2, random_state=42)\n"
   ]
  },
  {
   "cell_type": "code",
   "execution_count": 39,
   "id": "316f1a63",
   "metadata": {},
   "outputs": [],
   "source": [
    "# Build and train the model\n",
    "model = build_and_train_model(X_train, y_train)"
   ]
  },
  {
   "cell_type": "code",
   "execution_count": 40,
   "id": "31e3f22c",
   "metadata": {},
   "outputs": [],
   "source": [
    "\n",
    "# Use the model to make predictions on AAPL stock data\n",
    "aapl_data = aapl_data.dropna()\n",
    "predictions = model.predict(preprocessed_aapl_data)\n"
   ]
  },
  {
   "cell_type": "code",
   "execution_count": 42,
   "id": "8bac4455",
   "metadata": {},
   "outputs": [],
   "source": [
    "aapl_data['Prediction'] = predictions\n",
    "aapl_data['Signal'] = np.where(aapl_data['Prediction'].rolling(window=3).sum() >= 2, 1, np.where(aapl_data['Prediction'].rolling(window=3).sum() <= -2, -1, 0))\n",
    "aapl_data['BuySell'] = np.where(aapl_data['Signal'] == 1, 'BUY', np.where(aapl_data['Signal'] == -1, 'SELL', ''))"
   ]
  },
  {
   "cell_type": "code",
   "execution_count": 43,
   "id": "0bb9846b",
   "metadata": {},
   "outputs": [
    {
     "name": "stdout",
     "output_type": "stream",
     "text": [
      "Total profit: 150828.2\n"
     ]
    }
   ],
   "source": [
    "initial_investment = 100000\n",
    "aapl_data['Shares'] = np.floor(initial_investment / aapl_data['Open'])\n",
    "aapl_data['Profit'] = aapl_data['Shares'] * aapl_data['Close'] - initial_investment\n",
    "total_profit = aapl_data['Profit'].sum()\n",
    "\n",
    "print('Total profit:', round(total_profit, 2))"
   ]
  },
  {
   "cell_type": "code",
   "execution_count": null,
   "id": "9004c64b",
   "metadata": {},
   "outputs": [],
   "source": []
  }
 ],
 "metadata": {
  "kernelspec": {
   "display_name": "Python 3 (ipykernel)",
   "language": "python",
   "name": "python3"
  },
  "language_info": {
   "codemirror_mode": {
    "name": "ipython",
    "version": 3
   },
   "file_extension": ".py",
   "mimetype": "text/x-python",
   "name": "python",
   "nbconvert_exporter": "python",
   "pygments_lexer": "ipython3",
   "version": "3.8.10"
  }
 },
 "nbformat": 4,
 "nbformat_minor": 5
}
